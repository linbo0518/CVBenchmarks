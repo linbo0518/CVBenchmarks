{
 "cells": [
  {
   "cell_type": "markdown",
   "metadata": {},
   "source": [
    "**classification**\n",
    "1. mobilenet1.0\n",
    "2. mobilenetv2_1.0\n",
    "3. resnet50_v1\n",
    "\n",
    "**detection**\n",
    "1. faster_rcnn_resnet50_v1b_coco\n",
    "2. ssd_512_mobilenet1.0_coco\n",
    "3. ssd_512_resnet50_v1_coco\n",
    "4. yolo3_darknet53_coco\n",
    "5. yolo3_mobilenet1.0_coco"
   ]
  },
  {
   "cell_type": "markdown",
   "metadata": {},
   "source": [
    "### classification"
   ]
  },
  {
   "cell_type": "code",
   "execution_count": 1,
   "metadata": {
    "ExecuteTime": {
     "end_time": "2019-04-01T10:46:38.536670Z",
     "start_time": "2019-04-01T10:46:37.858208Z"
    }
   },
   "outputs": [
    {
     "name": "stderr",
     "output_type": "stream",
     "text": [
      "/home/tztx/.pyenv/versions/3.6.8/lib/python3.6/site-packages/matplotlib/__init__.py:996: UserWarning: Illegal line #1\n",
      "\t\"matplotlib.use('agg')\n",
      "\"\n",
      "\tin file \"/home/tztx/.config/matplotlib/matplotlibrc\"\n",
      "  warnings.warn('Illegal %s' % error_details)\n"
     ]
    }
   ],
   "source": [
    "from time import time\n",
    "import mxnet as mx\n",
    "import gluoncv as gcv"
   ]
  },
  {
   "cell_type": "code",
   "execution_count": 2,
   "metadata": {
    "ExecuteTime": {
     "end_time": "2019-04-01T10:46:38.550045Z",
     "start_time": "2019-04-01T10:46:38.548254Z"
    }
   },
   "outputs": [],
   "source": [
    "# test env\n",
    "ctx = mx.gpu()\n",
    "# ctx = mx.cpu()\n",
    "size = 224\n",
    "target_shape = (1, 3, size, size)"
   ]
  },
  {
   "cell_type": "code",
   "execution_count": 3,
   "metadata": {
    "ExecuteTime": {
     "end_time": "2019-04-01T10:46:41.562317Z",
     "start_time": "2019-04-01T10:46:39.958898Z"
    }
   },
   "outputs": [],
   "source": [
    "x = mx.nd.random_normal(shape=target_shape, ctx=ctx)"
   ]
  },
  {
   "cell_type": "code",
   "execution_count": 4,
   "metadata": {
    "ExecuteTime": {
     "end_time": "2019-04-01T10:46:41.621077Z",
     "start_time": "2019-04-01T10:46:41.579779Z"
    }
   },
   "outputs": [],
   "source": [
    "net = gcv.model_zoo.get_model('mobilenet1.0', pretrained=True, ctx=ctx)\n",
    "# net = gcv.model_zoo.get_model('mobilenetv2_1.0', pretrained=True, ctx=ctx)\n",
    "# net = gcv.model_zoo.get_model('resnet50_v1', pretrained=True, ctx=ctx)"
   ]
  },
  {
   "cell_type": "code",
   "execution_count": 5,
   "metadata": {
    "ExecuteTime": {
     "end_time": "2019-04-01T10:46:53.563678Z",
     "start_time": "2019-04-01T10:46:49.773914Z"
    }
   },
   "outputs": [
    {
     "name": "stdout",
     "output_type": "stream",
     "text": [
      "0.15925209522247313\n",
      "0.002191408157348633\n"
     ]
    }
   ],
   "source": [
    "net.hybridize()\n",
    "start = time()\n",
    "for _ in range(10):\n",
    "    _ = net(x)\n",
    "    mx.nd.waitall()\n",
    "print((time() - start) / 10)\n",
    "\n",
    "start = time()\n",
    "for _ in range(1000):\n",
    "    _ = net(x)\n",
    "    mx.nd.waitall()\n",
    "print((time() - start) / 1000)"
   ]
  },
  {
   "cell_type": "markdown",
   "metadata": {},
   "source": [
    "### detection"
   ]
  },
  {
   "cell_type": "code",
   "execution_count": 1,
   "metadata": {
    "ExecuteTime": {
     "end_time": "2019-04-01T11:02:00.233916Z",
     "start_time": "2019-04-01T11:01:59.557217Z"
    }
   },
   "outputs": [
    {
     "name": "stderr",
     "output_type": "stream",
     "text": [
      "/home/tztx/.pyenv/versions/3.6.8/lib/python3.6/site-packages/matplotlib/__init__.py:996: UserWarning: Illegal line #1\n",
      "\t\"matplotlib.use('agg')\n",
      "\"\n",
      "\tin file \"/home/tztx/.config/matplotlib/matplotlibrc\"\n",
      "  warnings.warn('Illegal %s' % error_details)\n"
     ]
    }
   ],
   "source": [
    "from time import time\n",
    "import mxnet as mx\n",
    "import gluoncv as gcv"
   ]
  },
  {
   "cell_type": "code",
   "execution_count": 2,
   "metadata": {
    "ExecuteTime": {
     "end_time": "2019-04-01T11:02:01.147725Z",
     "start_time": "2019-04-01T11:02:01.142475Z"
    }
   },
   "outputs": [],
   "source": [
    "# test env\n",
    "ctx = mx.gpu()\n",
    "# ctx = mx.cpu()\n",
    "size = 800\n",
    "target_shape = (1, 3, size, size)"
   ]
  },
  {
   "cell_type": "code",
   "execution_count": 3,
   "metadata": {
    "ExecuteTime": {
     "end_time": "2019-04-01T11:02:03.576641Z",
     "start_time": "2019-04-01T11:02:01.973007Z"
    }
   },
   "outputs": [],
   "source": [
    "x = mx.nd.random_normal(shape=target_shape, ctx=ctx)"
   ]
  },
  {
   "cell_type": "code",
   "execution_count": 4,
   "metadata": {
    "ExecuteTime": {
     "end_time": "2019-04-01T11:02:11.075452Z",
     "start_time": "2019-04-01T11:02:10.865905Z"
    }
   },
   "outputs": [],
   "source": [
    "net = gcv.model_zoo.get_model('faster_rcnn_resnet50_v1b_coco', pretrained=True, ctx=ctx)\n",
    "# net = gcv.model_zoo.get_model('ssd_512_mobilenet1.0_coco', pretrained=True, ctx=ctx)\n",
    "# net = gcv.model_zoo.get_model('ssd_512_resnet50_v1_coco', pretrained=True, ctx=ctx)\n",
    "# net = gcv.model_zoo.get_model('yolo3_mobilenet1.0_coco', pretrained=True, ctx=ctx)\n",
    "# net = gcv.model_zoo.get_model('yolo3_darknet53_coco', pretrained=True, ctx=ctx)"
   ]
  },
  {
   "cell_type": "code",
   "execution_count": 5,
   "metadata": {
    "ExecuteTime": {
     "end_time": "2019-04-01T11:02:39.695130Z",
     "start_time": "2019-04-01T11:02:18.374709Z"
    }
   },
   "outputs": [
    {
     "name": "stdout",
     "output_type": "stream",
     "text": [
      "1.8278318166732788\n",
      "0.30354182720184325\n"
     ]
    }
   ],
   "source": [
    "net.hybridize()\n",
    "start = time()\n",
    "for _ in range(10):\n",
    "    _ = net(x)\n",
    "    mx.nd.waitall()\n",
    "print((time() - start) / 10)\n",
    "\n",
    "start = time()\n",
    "for _ in range(10):\n",
    "    _ = net(x)\n",
    "    mx.nd.waitall()\n",
    "print((time() - start) / 10)"
   ]
  }
 ],
 "metadata": {
  "kernelspec": {
   "display_name": "Python 3",
   "language": "python",
   "name": "python3"
  },
  "language_info": {
   "codemirror_mode": {
    "name": "ipython",
    "version": 3
   },
   "file_extension": ".py",
   "mimetype": "text/x-python",
   "name": "python",
   "nbconvert_exporter": "python",
   "pygments_lexer": "ipython3",
   "version": "3.6.8"
  },
  "varInspector": {
   "cols": {
    "lenName": 16,
    "lenType": 16,
    "lenVar": 40
   },
   "kernels_config": {
    "python": {
     "delete_cmd_postfix": "",
     "delete_cmd_prefix": "del ",
     "library": "var_list.py",
     "varRefreshCmd": "print(var_dic_list())"
    },
    "r": {
     "delete_cmd_postfix": ") ",
     "delete_cmd_prefix": "rm(",
     "library": "var_list.r",
     "varRefreshCmd": "cat(var_dic_list()) "
    }
   },
   "types_to_exclude": [
    "module",
    "function",
    "builtin_function_or_method",
    "instance",
    "_Feature"
   ],
   "window_display": false
  },
  "widgets": {
   "application/vnd.jupyter.widget-state+json": {
    "state": {},
    "version_major": 2,
    "version_minor": 0
   }
  }
 },
 "nbformat": 4,
 "nbformat_minor": 2
}
